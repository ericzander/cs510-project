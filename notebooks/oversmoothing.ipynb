{
 "cells": [
  {
   "cell_type": "markdown",
   "metadata": {},
   "source": [
    "# Oversmoothing Analysis of Node Classification"
   ]
  },
  {
   "cell_type": "markdown",
   "metadata": {},
   "source": [
    "### Setup"
   ]
  },
  {
   "cell_type": "code",
   "execution_count": null,
   "metadata": {},
   "outputs": [],
   "source": [
    "import os\n",
    "\n",
    "import torch\n",
    "import torch.nn.functional as F\n",
    "import torch.nn as nn\n",
    "\n",
    "from torch_geometric.utils import add_remaining_self_loops, degree\n",
    "from torch_scatter import scatter\n",
    "from torch_geometric.nn import GINConv, global_add_pool, global_mean_pool, GCNConv, GATConv, SimpleConv\n",
    "from torch_geometric.datasets import HeterophilousGraphDataset\n",
    "from torch_geometric.loader import DataLoader\n",
    "from torch.nn import Sequential, Linear, BatchNorm1d, ReLU\n",
    "\n",
    "device = torch.device('cuda' if torch.cuda.is_available() else 'cpu')"
   ]
  },
  {
   "cell_type": "markdown",
   "metadata": {},
   "source": [
    "#### 1) Find and Download Datasets for Node Classification dataset link"
   ]
  },
  {
   "cell_type": "markdown",
   "metadata": {},
   "source": [
    "***Roman Empire***"
   ]
  },
  {
   "cell_type": "markdown",
   "metadata": {},
   "source": [
    "* Based on the Roman Empire article from Wikipedia\n",
    "* Each node corresponds to a word in the text\n",
    "* Each word is connected to another if the word follows or there is a dependency within the sentence\n",
    "* The class of the node is its syntactic role found using spaCy\n",
    "* Node features are fastText word embeddings"
   ]
  },
  {
   "cell_type": "code",
   "execution_count": 2,
   "metadata": {},
   "outputs": [],
   "source": [
    "rome = HeterophilousGraphDataset(root='data/', name='Roman-empire')"
   ]
  },
  {
   "cell_type": "markdown",
   "metadata": {},
   "source": [
    "***Amazon Ratings***"
   ]
  },
  {
   "cell_type": "code",
   "execution_count": 28,
   "metadata": {},
   "outputs": [
    {
     "name": "stderr",
     "output_type": "stream",
     "text": [
      "Downloading https://github.com/yandex-research/heterophilous-graphs/raw/main/data/amazon_ratings.npz\n",
      "Processing...\n",
      "Done!\n"
     ]
    }
   ],
   "source": [
    "amazon = HeterophilousGraphDataset(root='data/', name='Amazon-ratings')"
   ]
  },
  {
   "cell_type": "markdown",
   "metadata": {},
   "source": [
    "***Minesweeper***"
   ]
  },
  {
   "cell_type": "markdown",
   "metadata": {},
   "source": [
    "* 100x100 grid\n",
    "* Each cell is connected to its eight neighbors\n",
    "* Mines vs not mines\n",
    "  * Binary classes\n",
    "  * 20% are mines\n",
    "* Node features are one-hot-encoded numbers of neighboring mines"
   ]
  },
  {
   "cell_type": "code",
   "execution_count": 4,
   "metadata": {},
   "outputs": [],
   "source": [
    "minesweeper = HeterophilousGraphDataset(root='data/', name='Minesweeper')"
   ]
  },
  {
   "cell_type": "markdown",
   "metadata": {},
   "source": [
    "***Tolokers***"
   ]
  },
  {
   "cell_type": "code",
   "execution_count": 29,
   "metadata": {},
   "outputs": [
    {
     "name": "stderr",
     "output_type": "stream",
     "text": [
      "Downloading https://github.com/yandex-research/heterophilous-graphs/raw/main/data/tolokers.npz\n",
      "Processing...\n",
      "Done!\n"
     ]
    }
   ],
   "source": [
    "tolo = HeterophilousGraphDataset(root='data/', name='Tolokers')"
   ]
  },
  {
   "cell_type": "markdown",
   "metadata": {},
   "source": [
    "***Questions***"
   ]
  },
  {
   "cell_type": "code",
   "execution_count": 30,
   "metadata": {},
   "outputs": [
    {
     "name": "stderr",
     "output_type": "stream",
     "text": [
      "Downloading https://github.com/yandex-research/heterophilous-graphs/raw/main/data/questions.npz\n",
      "Processing...\n",
      "Done!\n"
     ]
    }
   ],
   "source": [
    "questions = HeterophilousGraphDataset(root='data/', name='Questions')"
   ]
  },
  {
   "cell_type": "markdown",
   "metadata": {},
   "source": [
    "### 2) Node Classification"
   ]
  },
  {
   "cell_type": "code",
   "execution_count": 39,
   "metadata": {},
   "outputs": [
    {
     "name": "stdout",
     "output_type": "stream",
     "text": [
      "Epoch 000, Loss: 0.6590, Train Acc: 0.8000, Val Acc: 0.8000, Test Acc: 0.8000\n",
      "Epoch 050, Loss: 0.4006, Train Acc: 0.8000, Val Acc: 0.8000, Test Acc: 0.8000\n",
      "Epoch 100, Loss: 0.3415, Train Acc: 0.8418, Val Acc: 0.8380, Test Acc: 0.8400\n",
      "Epoch 150, Loss: 0.3086, Train Acc: 0.8614, Val Acc: 0.8364, Test Acc: 0.8512\n",
      "Epoch 200, Loss: 0.2964, Train Acc: 0.8680, Val Acc: 0.8320, Test Acc: 0.8472\n",
      "Epoch 250, Loss: 0.2873, Train Acc: 0.8718, Val Acc: 0.8320, Test Acc: 0.8484\n",
      "Epoch 300, Loss: 0.2808, Train Acc: 0.8766, Val Acc: 0.8300, Test Acc: 0.8492\n",
      "Epoch 350, Loss: 0.2749, Train Acc: 0.8794, Val Acc: 0.8296, Test Acc: 0.8460\n",
      "Epoch 400, Loss: 0.2651, Train Acc: 0.8806, Val Acc: 0.8324, Test Acc: 0.8456\n",
      "Epoch 450, Loss: 0.2630, Train Acc: 0.8852, Val Acc: 0.8288, Test Acc: 0.8484\n",
      "Epoch 500, Loss: 0.2604, Train Acc: 0.8852, Val Acc: 0.8268, Test Acc: 0.8428\n",
      "Epoch 550, Loss: 0.2534, Train Acc: 0.8878, Val Acc: 0.8272, Test Acc: 0.8428\n",
      "Epoch 600, Loss: 0.2540, Train Acc: 0.8900, Val Acc: 0.8276, Test Acc: 0.8404\n",
      "Epoch 650, Loss: 0.2435, Train Acc: 0.8930, Val Acc: 0.8260, Test Acc: 0.8420\n",
      "Epoch 700, Loss: 0.2412, Train Acc: 0.8926, Val Acc: 0.8264, Test Acc: 0.8332\n",
      "Epoch 750, Loss: 0.2414, Train Acc: 0.8950, Val Acc: 0.8264, Test Acc: 0.8396\n",
      "Epoch 800, Loss: 0.2395, Train Acc: 0.9000, Val Acc: 0.8260, Test Acc: 0.8412\n",
      "Epoch 850, Loss: 0.2349, Train Acc: 0.8994, Val Acc: 0.8268, Test Acc: 0.8368\n",
      "Epoch 900, Loss: 0.2315, Train Acc: 0.9026, Val Acc: 0.8272, Test Acc: 0.8364\n",
      "Epoch 950, Loss: 0.2299, Train Acc: 0.9040, Val Acc: 0.8252, Test Acc: 0.8308\n",
      "Epoch 999, Loss: 0.2329, Train Acc: 0.9038, Val Acc: 0.8228, Test Acc: 0.8312\n"
     ]
    }
   ],
   "source": [
    "class GCN(torch.nn.Module):\n",
    "    def __init__(\n",
    "            self, \n",
    "            in_channels,\n",
    "            conv_channels: list,\n",
    "            mlp_channels: list,\n",
    "            out_channels,\n",
    "            heads=4,\n",
    "        ):\n",
    "        super(GCN, self).__init__()\n",
    "\n",
    "        self.n_conv_layers = len(conv_channels)\n",
    "        self.n_mlp_layers = len(mlp_channels)\n",
    "\n",
    "        self.gelu = nn.GELU()\n",
    "        self.dropout = nn.Dropout(p=0.2)\n",
    "\n",
    "        self.convs = nn.ModuleList([\n",
    "            GATConv(in_channels, conv_channels[0], heads, concat=True),\n",
    "            *[GATConv(conv_channels[i - 1] * heads, conv_channels[i], heads) for i in range(1, self.n_conv_layers)],\n",
    "            GATConv(conv_channels[-1] * heads, mlp_channels[0], heads),\n",
    "        ])\n",
    "\n",
    "        self.batch_norms = nn.ModuleList([\n",
    "            nn.BatchNorm1d(conv_channels[0] * heads),\n",
    "            *[nn.BatchNorm1d(conv_channels[i] * heads) for i in range(1, self.n_conv_layers)],\n",
    "            nn.BatchNorm1d(mlp_channels[0] * heads),\n",
    "        ])\n",
    "\n",
    "        self.projections = nn.ModuleList([\n",
    "            nn.Linear(in_channels + conv_channels[0] * heads, conv_channels[0] * heads),\n",
    "            *[nn.Linear(conv_channels[i - 1] * heads + conv_channels[i] * heads, conv_channels[i] * heads) for i in range(1, self.n_conv_layers)],\n",
    "            nn.Linear(conv_channels[-1] * heads + mlp_channels[0] * heads, mlp_channels[0] * heads),\n",
    "        ])\n",
    "\n",
    "        self.fc1 = nn.Linear(mlp_channels[0] * heads, mlp_channels[1])\n",
    "        self.fc2 = nn.Linear(mlp_channels[1], out_channels)\n",
    "        \n",
    "    def forward(self, x, edge_index):\n",
    "        skip = x\n",
    "        for i, conv in enumerate(self.convs):\n",
    "            # Conv + batch norm\n",
    "            x = conv(x, edge_index)\n",
    "            x = self.batch_norms[i](x)\n",
    "\n",
    "            # Skip connections + linear projection\n",
    "            x = torch.cat([x, skip], dim=1)\n",
    "            x = self.projections[i](x)\n",
    "            skip = x\n",
    "\n",
    "            # Activation + dropout\n",
    "            x = self.gelu(x)\n",
    "            x = self.dropout(x)\n",
    "\n",
    "        # MLP\n",
    "        x = self.gelu(self.fc1(x))\n",
    "        x = self.dropout(x)\n",
    "        x = self.fc2(x)\n",
    "\n",
    "        return F.log_softmax(x, dim=1)\n",
    "    \n",
    "conv_channels_list = [512]\n",
    "mlp_channels_list = [64, 32]\n",
    "\n",
    "dataset = minesweeper.to(device)\n",
    "\n",
    "class_weights = None # torch.tensor([1/0.8, 1/0.2]).to(device)\n",
    "\n",
    "loader = DataLoader(dataset, batch_size=32) #shuffle=True)\n",
    "\n",
    "model = GCN(\n",
    "    in_channels=dataset.num_node_features,\n",
    "    conv_channels=conv_channels_list,\n",
    "    mlp_channels=mlp_channels_list,\n",
    "    out_channels=dataset.num_classes,\n",
    "    heads=8,\n",
    ").to(device)\n",
    "\n",
    "optimizer = torch.optim.Adam(model.parameters(), lr=3e-5, weight_decay=1e-2)\n",
    "scheduler = torch.optim.lr_scheduler.ReduceLROnPlateau(optimizer, mode=\"min\", factor=0.5, patience=50)\n",
    "criterion = nn.NLLLoss(weight=class_weights)  # Use if returning log_softmax\n",
    "\n",
    "split_index = 0\n",
    "train_mask = dataset.train_mask[:, split_index]\n",
    "val_mask = dataset.val_mask[:, split_index]\n",
    "test_mask = dataset.test_mask[:, split_index]\n",
    "\n",
    "# Training loop\n",
    "def train():\n",
    "    model.train()\n",
    "    optimizer.zero_grad()\n",
    "    out = model(dataset.x, dataset.edge_index)\n",
    "    loss = criterion(out[train_mask], dataset.y[train_mask])\n",
    "    loss.backward()\n",
    "    optimizer.step()\n",
    "    return loss.item()\n",
    "\n",
    "# Evaluation loop\n",
    "def evaluate():\n",
    "    model.eval()\n",
    "    with torch.no_grad():\n",
    "        logits = model(dataset.x, dataset.edge_index)\n",
    "        pred = logits.argmax(dim=1)\n",
    "        accs = []\n",
    "        for mask in [train_mask, val_mask, test_mask]:\n",
    "            acc = (pred[mask] == dataset.y[mask]).sum().item() / mask.sum().item()\n",
    "            accs.append(acc)\n",
    "    return accs\n",
    "\n",
    "# Training process\n",
    "num_epochs = 1000\n",
    "for epoch in range(num_epochs):\n",
    "    loss = train()\n",
    "    train_acc, val_acc, test_acc = evaluate()\n",
    "    if epoch % 50 == 0 or epoch == (num_epochs - 1):\n",
    "        print(f'Epoch {epoch:03d}, Loss: {loss:.4f}, '\n",
    "              f'Train Acc: {train_acc:.4f}, Val Acc: {val_acc:.4f}, Test Acc: {test_acc:.4f}')"
   ]
  },
  {
   "cell_type": "code",
   "execution_count": 40,
   "metadata": {},
   "outputs": [],
   "source": [
    "# Save model\n",
    "weights_path = f\"models/gcn_{dataset.name}.pth\"\n",
    "torch.save(model.state_dict(), weights_path)"
   ]
  },
  {
   "cell_type": "code",
   "execution_count": null,
   "metadata": {},
   "outputs": [],
   "source": [
    "# Load model from file\n",
    "model.load_state_dict(torch.load(weights_path, weights_only=True))"
   ]
  },
  {
   "cell_type": "code",
   "execution_count": 31,
   "metadata": {},
   "outputs": [
    {
     "data": {
      "text/plain": [
       "74092146"
      ]
     },
     "execution_count": 31,
     "metadata": {},
     "output_type": "execute_result"
    }
   ],
   "source": [
    "model = GCN(\n",
    "    in_channels=dataset.num_node_features,\n",
    "    conv_channels=conv_channels_list,\n",
    "    mlp_channels=mlp_channels_list,\n",
    "    out_channels=dataset.num_classes,\n",
    "    heads=8,\n",
    ").to(device)\n",
    "\n",
    "sum(p.numel() for p in model.parameters())"
   ]
  },
  {
   "cell_type": "code",
   "execution_count": 40,
   "metadata": {},
   "outputs": [
    {
     "data": {
      "text/plain": [
       "tensor([0, 0, 0,  ..., 0, 0, 0], device='cuda:0')"
      ]
     },
     "execution_count": 40,
     "metadata": {},
     "output_type": "execute_result"
    }
   ],
   "source": [
    "idx = 53\n",
    "\n",
    "batch = next(iter(loader))\n",
    "with torch.no_grad():\n",
    "    logits = model(batch.x, batch.edge_index)\n",
    "\n",
    "predictions = logits.argmax(dim=1)\n",
    "predictions"
   ]
  }
 ],
 "metadata": {
  "kernelspec": {
   "display_name": ".win",
   "language": "python",
   "name": "python3"
  },
  "language_info": {
   "codemirror_mode": {
    "name": "ipython",
    "version": 3
   },
   "file_extension": ".py",
   "mimetype": "text/x-python",
   "name": "python",
   "nbconvert_exporter": "python",
   "pygments_lexer": "ipython3",
   "version": "3.12.7"
  }
 },
 "nbformat": 4,
 "nbformat_minor": 2
}
